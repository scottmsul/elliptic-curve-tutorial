{
 "cells": [
  {
   "cell_type": "code",
   "execution_count": 15,
   "metadata": {},
   "outputs": [],
   "source": [
    "#cheat sheet here: https://crypto.stanford.edu/~dabo/cs255/handouts/numth1.pdf\n",
    "\n",
    "import numpy as np\n",
    "import pandas as pd\n",
    "\n",
    "p=7"
   ]
  },
  {
   "cell_type": "code",
   "execution_count": 60,
   "metadata": {},
   "outputs": [],
   "source": [
    "df = pd.DataFrame(data={'g': np.arange(p)})\n",
    "\n",
    "# fermat's little theorem: for any element 0<g<p, g^(p-1) = 1 mod p\n",
    "# proof here: https://en.wikipedia.org/wiki/Proofs_of_Fermat%27s_little_theorem\n",
    "df['g^(p-1)'] = df['g']**(p-1) % p\n",
    "\n",
    "# inverse is element x such that g*x = 1 mod p\n",
    "# formula is x = g^(p-2)\n",
    "# proof: g^(p-2) * g = g^(p-1) = 1 mod p from fermat's little theorem\n",
    "# also proves that all elements besides 0 are invertible\n",
    "df['g^-1'] = df['g']**(p-2) % p\n",
    "df['(g^-1) * g'] = df['g^-1'] * df['g'] % p\n",
    "\n",
    "# can solve equations of the form a*x = b mod p where a,b are known and greater than zero, and x is unknown\n",
    "# solution: x = b*(a^-1) = b*a^(p-2) mod p\n",
    "for b in range(1, p):\n",
    "    for a in range(1, p):\n",
    "        x = b*a**(p-2) % p\n",
    "        #print(f'a: {a}, b: {b}, x: {x}, a*x: {a*x%p}')\n",
    "\n",
    "# Zp* is the group of all invertible elements mod p, eg {1, ..., p-1}\n",
    "# Zp* is a cyclic group: there exists some g such that Zp* = {1, g, g^2, ..., g^(p-2)} (note that g^(p-1) goes back to 1)\n",
    "Zp = pd.DataFrame()\n",
    "for g in range(1, p):\n",
    "    Zp[f'g={g}'] = [g**i % p for i in range(0, p-1)]\n",
    "\n",
    "# not every g is a valid generator, for example 2 is not valid {1,4,2} but 3 is valid {1,3,2,6,4,5}\n",
    "# considered valid if it hits every point in Zp*\n",
    "df['|Zg|'] = [np.nan] + list(Zp.nunique().values)\n",
    "df['valid generator'] = df['|Zg|'] == p-1\n",
    "\n",
    "# order of g is smallest integer a such that g^a = 1 mod p\n",
    "# order is equal to the already-calculated |Zg|\n",
    "# denoted ord_p(g), eg ord_7(2)=3, ord_7(3) = 6\n",
    "\n",
    "# Lagrange's Theorem: For all g in Zp, ord_p(g) divides p-1\n",
    "# since p-1 = 6, all of the orders should be divisors of 6, which we can clearly see (1, 3, 6, 3, 6, 2)\n",
    "\n",
    "# If the factorization of p-1 is known, then there is a simple and efficient algorithm to determine ord_p(g) for all g"
   ]
  },
  {
   "cell_type": "code",
   "execution_count": 59,
   "metadata": {},
   "outputs": [
    {
     "name": "stdout",
     "output_type": "stream",
     "text": [
      "   g  g^(p-1)  g^-1  (g^-1) * g  |Zg|  valid generator\n",
      "0  0        0     0           0   NaN            False\n",
      "1  1        1     1           1   1.0            False\n",
      "2  2        1     4           1   3.0            False\n",
      "3  3        1     5           1   6.0             True\n",
      "4  4        1     2           1   3.0            False\n",
      "5  5        1     3           1   6.0             True\n",
      "6  6        1     6           1   2.0            False\n",
      "   g=1  g=2  g=3  g=4  g=5  g=6\n",
      "0    1    1    1    1    1    1\n",
      "1    1    2    3    4    5    6\n",
      "2    1    4    2    2    4    1\n",
      "3    1    1    6    1    6    6\n",
      "4    1    2    4    4    2    1\n",
      "5    1    4    5    2    3    6\n"
     ]
    }
   ],
   "source": [
    "print(df)\n",
    "print(Zp)"
   ]
  },
  {
   "cell_type": "code",
   "execution_count": 65,
   "metadata": {},
   "outputs": [],
   "source": [
    "# A square root of x is a number y such that x^2 = y mod p\n",
    "df = pd.DataFrame(data={'x': np.arange(1,p)})\n",
    "df['x^2'] = df['x']**2 % p\n",
    "# can see visually that sqrt(1)=1 and 6, sqrt(2)=3 and 4, sqrt(4)=2 and 5\n",
    "\n",
    "# an element is called a Quadratic Residue (QR) if it has a square root\n",
    "# if an element has at least one square root, then it must have exactly 2 square roots\n",
    "# proof: if x^2 = y^2 mod p, then 0 = x^2 - y^2 mod p = (x-y)(x+y) mod p => either x=y or x=-y mod p\n",
    "\n",
    "# Euler's Theorem: an element x is a QR if and only if x^((p-1)/2) = 1 mod p\n",
    "# I guess this makes sense, since x^2 = x^(p-1) = 1 mod p from Fermat's Little Theorem\n",
    "df['x^(p-1)/2'] = df['x']**((p-1)/2) % p\n",
    "# the numbers where this is 1 are (1,2,4) as expected from visual inspection\n",
    "\n",
    "# g^(p-1)/2 must be either 1 or -1. Proof:\n",
    "# g^(p-1) is 1 mod p from Fermat's Little Theorem\n",
    "# (g^(p-1)/2)^2 = g^(p-1) = 1 mod p\n",
    "# therefore g^(p-1)/2 is the square root of 1 mod p, which is either 1 or -1 mod p\n",
    "\n",
    "# Legendre Symbol: (x | p) = {1 if x is a QR of p, -1 if x is not a QR of p, 0 if x=0}\n",
    "# Legendre Symbol calculated using (x | p) = x^(p-1)/2 mod p\n"
   ]
  },
  {
   "cell_type": "code",
   "execution_count": 66,
   "metadata": {},
   "outputs": [
    {
     "data": {
      "text/html": [
       "<div>\n",
       "<style scoped>\n",
       "    .dataframe tbody tr th:only-of-type {\n",
       "        vertical-align: middle;\n",
       "    }\n",
       "\n",
       "    .dataframe tbody tr th {\n",
       "        vertical-align: top;\n",
       "    }\n",
       "\n",
       "    .dataframe thead th {\n",
       "        text-align: right;\n",
       "    }\n",
       "</style>\n",
       "<table border=\"1\" class=\"dataframe\">\n",
       "  <thead>\n",
       "    <tr style=\"text-align: right;\">\n",
       "      <th></th>\n",
       "      <th>x</th>\n",
       "      <th>x^2</th>\n",
       "      <th>x^(p-1)/2</th>\n",
       "    </tr>\n",
       "  </thead>\n",
       "  <tbody>\n",
       "    <tr>\n",
       "      <th>0</th>\n",
       "      <td>1</td>\n",
       "      <td>1</td>\n",
       "      <td>1.0</td>\n",
       "    </tr>\n",
       "    <tr>\n",
       "      <th>1</th>\n",
       "      <td>2</td>\n",
       "      <td>4</td>\n",
       "      <td>1.0</td>\n",
       "    </tr>\n",
       "    <tr>\n",
       "      <th>2</th>\n",
       "      <td>3</td>\n",
       "      <td>2</td>\n",
       "      <td>6.0</td>\n",
       "    </tr>\n",
       "    <tr>\n",
       "      <th>3</th>\n",
       "      <td>4</td>\n",
       "      <td>2</td>\n",
       "      <td>1.0</td>\n",
       "    </tr>\n",
       "    <tr>\n",
       "      <th>4</th>\n",
       "      <td>5</td>\n",
       "      <td>4</td>\n",
       "      <td>6.0</td>\n",
       "    </tr>\n",
       "    <tr>\n",
       "      <th>5</th>\n",
       "      <td>6</td>\n",
       "      <td>1</td>\n",
       "      <td>6.0</td>\n",
       "    </tr>\n",
       "  </tbody>\n",
       "</table>\n",
       "</div>"
      ],
      "text/plain": [
       "   x  x^2  x^(p-1)/2\n",
       "0  1    1        1.0\n",
       "1  2    4        1.0\n",
       "2  3    2        6.0\n",
       "3  4    2        1.0\n",
       "4  5    4        6.0\n",
       "5  6    1        6.0"
      ]
     },
     "execution_count": 66,
     "metadata": {},
     "output_type": "execute_result"
    }
   ],
   "source": [
    "df"
   ]
  },
  {
   "cell_type": "code",
   "execution_count": null,
   "metadata": {},
   "outputs": [],
   "source": []
  }
 ],
 "metadata": {
  "kernelspec": {
   "display_name": "Python 3",
   "language": "python",
   "name": "python3"
  },
  "language_info": {
   "codemirror_mode": {
    "name": "ipython",
    "version": 3
   },
   "file_extension": ".py",
   "mimetype": "text/x-python",
   "name": "python",
   "nbconvert_exporter": "python",
   "pygments_lexer": "ipython3",
   "version": "3.7.4"
  }
 },
 "nbformat": 4,
 "nbformat_minor": 2
}
